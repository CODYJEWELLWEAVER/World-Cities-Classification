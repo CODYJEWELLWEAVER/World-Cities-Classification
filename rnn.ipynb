{
 "cells": [
  {
   "cell_type": "markdown",
   "metadata": {},
   "source": [
    "# RNN City Classification\n",
    "\n",
    "## Objective\n",
    "The goal of this notebook is use a recurrent neural network to predict the country of a city using only the ASCII representation of a city's name as input to the RNN.\n",
    "\n",
    "See `rnn.py` for implementation of the PyTorch RNN."
   ]
  },
  {
   "cell_type": "code",
   "execution_count": null,
   "metadata": {},
   "outputs": [],
   "source": [
    "import pandas as pd\n",
    "import string\n",
    "import torch\n",
    "import numpy as np\n",
    "from rnn import RNN\n",
    "import matplotlib.pyplot as plt"
   ]
  },
  {
   "cell_type": "code",
   "execution_count": null,
   "metadata": {},
   "outputs": [],
   "source": [
    "# read dataset csv into pandas dataframe\n",
    "df = pd.read_csv('data/worldcities.csv')\n",
    "\n",
    "# dataset exploration\n",
    "print(df.head(1))\n",
    "print(df.info())"
   ]
  },
  {
   "cell_type": "code",
   "execution_count": null,
   "metadata": {},
   "outputs": [],
   "source": [
    "# remove all empty city ASCII names and corresponding country name\n",
    "dataset = df[df['city_ascii'].notna()]\n",
    "\n",
    "# remove all non-letter chars from city names, excluding space\n",
    "dataset.loc[:,'city_ascii'] = dataset['city_ascii'].apply(lambda city: ''.join([c for c in city if c.isalpha() or c == ' ']))\n",
    "\n",
    "# zip city_ascii and country togeter into a series of examples, converting to lowercase\n",
    "examples = zip(dataset['city_ascii'].str.lower(), dataset['country'].str.lower())\n",
    "\n",
    "# convert to numpy array\n",
    "examples = np.array([(city, country) for city, country in examples])"
   ]
  },
  {
   "cell_type": "code",
   "execution_count": null,
   "metadata": {},
   "outputs": [],
   "source": [
    "# create train, dev, and test sets\n",
    "# first, randomly shuffle examples\n",
    "rng = np.random.default_rng()\n",
    "rand_examples = rng.permutation(examples)\n",
    "\n",
    "num_examples = len(examples)\n",
    "\n",
    "train_set = rand_examples[:int(num_examples * 0.8)]\n",
    "test_set = rand_examples[int(num_examples * 0.8):]"
   ]
  },
  {
   "cell_type": "markdown",
   "metadata": {},
   "source": [
    "### Helpers for creating encoding of examples"
   ]
  },
  {
   "cell_type": "code",
   "execution_count": null,
   "metadata": {},
   "outputs": [],
   "source": [
    "\"\"\"\n",
    "Methods and utilities for encoding city names as tensors.\n",
    "\"\"\"\n",
    "all_chars = string.ascii_lowercase + ' '\n",
    "num_chars = len(all_chars)\n",
    "\n",
    "char_encodings = {}\n",
    "\n",
    "for c_idx, char in enumerate(all_chars):\n",
    "    char_encodings[char] = c_idx\n",
    "\n",
    "\n",
    "def encode_city_name(name):\n",
    "    \"\"\"\n",
    "    Encode city_ascii string as a tensor matrix.\n",
    "    \"\"\"\n",
    "    encoding = torch.zeros((len(name), 1, num_chars))\n",
    "    for c_idx, char in enumerate(name):\n",
    "        encoding[c_idx][0][char_encodings[char]] = 1\n",
    "\n",
    "    return encoding\n",
    "\n",
    "\n",
    "\"\"\"\n",
    "Methods and utilities for getting categorical index of country.\n",
    "\"\"\"\n",
    "country_set = set()\n",
    "\n",
    "for _city, country in examples:\n",
    "    country_set.add(country)\n",
    "\n",
    "# maps a country name to an categorical index\n",
    "num_countries = len(country_set)\n",
    "country_to_idx = {}\n",
    "idx_to_country = {}\n",
    "\n",
    "\n",
    "for country_idx, country in enumerate(country_set):\n",
    "    country_to_idx[country] = country_idx\n",
    "    idx_to_country[country_idx] = country\n",
    "\n",
    "\n",
    "def get_country_index(country):\n",
    "    \"\"\"\n",
    "    Returns a countries categorical index.\n",
    "    \"\"\"\n",
    "    return country_to_idx[country]\n",
    "\n",
    "\n",
    "def get_country(index):\n",
    "    \"\"\"\n",
    "    Returns a country category from index.\n",
    "    \"\"\"\n",
    "    return idx_to_country[index]"
   ]
  },
  {
   "cell_type": "markdown",
   "metadata": {},
   "source": [
    "### Helpers for model evaluation."
   ]
  },
  {
   "cell_type": "code",
   "execution_count": null,
   "metadata": {},
   "outputs": [],
   "source": [
    "def evaluate(rnn: RNN, city) -> str:\n",
    "    \"\"\"\n",
    "    Returns the predicted country for a city name.\n",
    "    \"\"\"\n",
    "\n",
    "    hidden = rnn.get_init_hidden()\n",
    "    city_encoding = encode_city_name(city)\n",
    "\n",
    "    for char_encoding in city_encoding:\n",
    "        output, hidden = rnn.forward(char_encoding[0], hidden)\n",
    "\n",
    "    return idx_to_country[torch.topk(output, k=1)[1].item()]"
   ]
  },
  {
   "cell_type": "markdown",
   "metadata": {},
   "source": [
    "## TRAIN RNN"
   ]
  },
  {
   "cell_type": "code",
   "execution_count": null,
   "metadata": {},
   "outputs": [],
   "source": [
    "N_EPOCHS = 15\n",
    "N_HIDDEN = 512\n",
    "LEARNING_RATE = 0.001\n",
    "rnn = RNN(num_chars, N_HIDDEN, num_countries)\n",
    "rnn.train()\n",
    "\n",
    "loss_fn = torch.nn.NLLLoss()\n",
    "optimizer = torch.optim.Adam(rnn.parameters(), lr=LEARNING_RATE)\n",
    "\n",
    "losses = []\n",
    "TRACK_LOSS_ITER = 300\n",
    "total_loss = 0\n",
    "iter = 0\n",
    "\n",
    "for epoch in range(N_EPOCHS):\n",
    "    rng.shuffle(train_set)\n",
    "\n",
    "    for train_ex in train_set:\n",
    "        city, country = train_ex\n",
    "        city_encoding = encode_city_name(city)\n",
    "        gold_label = torch.tensor(get_country_index(country), dtype=torch.long)\n",
    "\n",
    "        hidden = rnn.get_init_hidden()\n",
    "\n",
    "        rnn.zero_grad()\n",
    "\n",
    "        for i in range(city_encoding.size()[0]):\n",
    "            output, hidden = rnn.forward(city_encoding[i], hidden)\n",
    "\n",
    "        loss = loss_fn(output, gold_label.unsqueeze(0))\n",
    "        total_loss += loss.item()\n",
    "        loss.backward()\n",
    "\n",
    "        optimizer.step()\n",
    "\n",
    "        iter += 1\n",
    "        if iter % TRACK_LOSS_ITER == 0:\n",
    "            losses.append(total_loss / TRACK_LOSS_ITER)\n",
    "            total_loss = 0\n",
    "\n",
    "rnn.eval()"
   ]
  },
  {
   "cell_type": "markdown",
   "metadata": {},
   "source": [
    "# Evaluate Model"
   ]
  },
  {
   "cell_type": "code",
   "execution_count": null,
   "metadata": {},
   "outputs": [],
   "source": [
    "\"\"\"\n",
    "Print Accuracy on Test Set.\n",
    "\"\"\"\n",
    "num_correct = 0\n",
    "\n",
    "for test_ex in test_set:\n",
    "    city, country = test_ex\n",
    "    predicted_country = evaluate(rnn, city)\n",
    "\n",
    "    if predicted_country == country:\n",
    "        num_correct += 1\n",
    "\n",
    "test_acc_output = \"Test Accuracy: {num_correct} correct out of {num_test_ex}. Total Accuracy: {acc:.2f}%\"\n",
    "print(test_acc_output.format(num_correct=num_correct, num_test_ex=len(test_set), acc=(num_correct / len(test_set) * 100)))"
   ]
  },
  {
   "cell_type": "code",
   "execution_count": null,
   "metadata": {},
   "outputs": [],
   "source": [
    "\"\"\"\n",
    "Plots Negative Log Likelihood\n",
    "\"\"\"\n",
    "\n",
    "plt.figure()\n",
    "plt.title(\"Negative Log Likelihood vs Iterations\")\n",
    "plt.ylabel(\"NLL\")\n",
    "plt.xlabel(\"Iteration\")\n",
    "plt.plot(losses)\n",
    "plt.show()"
   ]
  }
 ],
 "metadata": {
  "kernelspec": {
   "display_name": "nlp",
   "language": "python",
   "name": "python3"
  },
  "language_info": {
   "codemirror_mode": {
    "name": "ipython",
    "version": 3
   },
   "file_extension": ".py",
   "mimetype": "text/x-python",
   "name": "python",
   "nbconvert_exporter": "python",
   "pygments_lexer": "ipython3",
   "version": "3.12.6"
  }
 },
 "nbformat": 4,
 "nbformat_minor": 2
}
